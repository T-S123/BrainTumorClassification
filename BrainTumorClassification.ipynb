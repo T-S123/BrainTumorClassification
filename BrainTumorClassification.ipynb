{
  "nbformat": 4,
  "nbformat_minor": 0,
  "metadata": {
    "colab": {
      "provenance": [],
      "machine_shape": "hm"
    },
    "kernelspec": {
      "name": "python3",
      "display_name": "Python 3"
    },
    "language_info": {
      "name": "python"
    },
    "accelerator": "GPU"
  },
  "cells": [
    {
      "cell_type": "code",
      "execution_count": 1,
      "metadata": {
        "id": "VHW8eCYKZyNR"
      },
      "outputs": [],
      "source": [
        "import tensorflow as tf\n",
        "import numpy as np\n",
        "import tensorflow.keras as keras\n",
        "from tensorflow.keras.applications import VGG16, ResNet50, InceptionV3, Xception, MobileNetV2\n",
        "from PIL import Image\n",
        "import os\n",
        "import sklearn\n",
        "from sklearn.model_selection import train_test_split"
      ]
    },
    {
      "cell_type": "code",
      "source": [
        "from google.colab import drive\n",
        "drive.mount('/content/drive/')"
      ],
      "metadata": {
        "colab": {
          "base_uri": "https://localhost:8080/"
        },
        "id": "ylj36NA8aB0m",
        "outputId": "5b2eea10-880b-44ea-c118-aedfbd8fead8"
      },
      "execution_count": 2,
      "outputs": [
        {
          "output_type": "stream",
          "name": "stdout",
          "text": [
            "Mounted at /content/drive/\n"
          ]
        }
      ]
    },
    {
      "cell_type": "code",
      "source": [
        "drive_dir = \"/content/drive/MyDrive/brain_tumor_stuff/archive/\"\n",
        "train_dir = drive_dir+\"Training/\"\n",
        "test_dir = drive_dir+\"Testing/\""
      ],
      "metadata": {
        "id": "8-g0cMhKahS-"
      },
      "execution_count": 3,
      "outputs": []
    },
    {
      "cell_type": "code",
      "source": [
        "train_count = 0\n",
        "test_count = 0\n",
        "for dir in os.listdir(train_dir):\n",
        "  train_count += len(os.listdir(train_dir+dir))\n",
        "for dir in os.listdir(test_dir):\n",
        "  test_count += len(os.listdir(test_dir+dir))"
      ],
      "metadata": {
        "id": "bk5L87Ooayqp"
      },
      "execution_count": 4,
      "outputs": []
    },
    {
      "cell_type": "code",
      "source": [
        "print(\"Train count: \" + str(train_count))\n",
        "print(\"Testing count: \" + str(test_count))"
      ],
      "metadata": {
        "colab": {
          "base_uri": "https://localhost:8080/"
        },
        "id": "HxE9liz3bDi3",
        "outputId": "388dd24d-a22b-42cf-9c66-027f2525a5c7"
      },
      "execution_count": 5,
      "outputs": [
        {
          "output_type": "stream",
          "name": "stdout",
          "text": [
            "Train count: 2870\n",
            "Testing count: 394\n"
          ]
        }
      ]
    },
    {
      "cell_type": "code",
      "source": [
        "classes = {}\n",
        "for i, dir in enumerate(os.listdir(train_dir)):\n",
        "  classes[dir] = i"
      ],
      "metadata": {
        "id": "SJFEL57Qbncj"
      },
      "execution_count": 6,
      "outputs": []
    },
    {
      "cell_type": "code",
      "source": [
        "\n",
        "\n",
        "print(classes)"
      ],
      "metadata": {
        "colab": {
          "base_uri": "https://localhost:8080/"
        },
        "id": "MDe5Sf9Cb3wD",
        "outputId": "2aa5ce5f-ca70-4fb9-bc6d-326ec3a2b8d7"
      },
      "execution_count": 7,
      "outputs": [
        {
          "output_type": "stream",
          "name": "stdout",
          "text": [
            "{'no_tumor': 0, 'glioma_tumor': 1, 'pituitary_tumor': 2, 'meningioma_tumor': 3}\n"
          ]
        }
      ]
    },
    {
      "cell_type": "code",
      "source": [
        "def one_hot(y, n=len(classes)):\n",
        "  yhot = np.zeros((n))\n",
        "  yhot[y] = 1\n",
        "  return yhot"
      ],
      "metadata": {
        "id": "paH1-U_nb550"
      },
      "execution_count": 8,
      "outputs": []
    },
    {
      "cell_type": "code",
      "source": [
        "x_train = []\n",
        "y_train = []\n",
        "x_test = []\n",
        "y_test = []\n",
        "\n",
        "for dir in os.listdir(train_dir):\n",
        "  for file in os.listdir(train_dir+dir):\n",
        "    img = Image.open(train_dir+dir+\"/\"+file).resize((150, 150))\n",
        "    img = np.asarray(img)\n",
        "    x_train.append(img)\n",
        "    y_train.append(one_hot(classes[dir]))\n",
        "\n",
        "for dir in os.listdir(test_dir):\n",
        "  for file in os.listdir(test_dir+dir):\n",
        "    img = Image.open(test_dir+dir+\"/\"+file).resize((150, 150))\n",
        "    img = np.asarray(img)\n",
        "    x_test.append(img)\n",
        "    y_test.append(one_hot(classes[dir]))"
      ],
      "metadata": {
        "id": "rLqNlok3bKzM"
      },
      "execution_count": 9,
      "outputs": []
    },
    {
      "cell_type": "code",
      "source": [
        "x_train = np.array(x_train)\n",
        "y_train = np.array(y_train)\n",
        "x_test = np.array(x_test)\n",
        "y_test = np.array(y_test)"
      ],
      "metadata": {
        "id": "0J7grQVldRfm"
      },
      "execution_count": 10,
      "outputs": []
    },
    {
      "cell_type": "code",
      "source": [
        "print(f\"x_train.shape: {x_train.shape}, y_train.shape: {y_train.shape}\")\n",
        "print(f\"x_test.shape: {x_test.shape}, y_test.shape: {y_test.shape}\")"
      ],
      "metadata": {
        "colab": {
          "base_uri": "https://localhost:8080/"
        },
        "id": "QFFYiaSakOfp",
        "outputId": "61c7a267-e6ed-4776-ba27-143b5ff4f3c4"
      },
      "execution_count": 11,
      "outputs": [
        {
          "output_type": "stream",
          "name": "stdout",
          "text": [
            "x_train.shape: (2870, 150, 150, 3), y_train.shape: (2870, 4)\n",
            "x_test.shape: (394, 150, 150, 3), y_test.shape: (394, 4)\n"
          ]
        }
      ]
    },
    {
      "cell_type": "code",
      "source": [
        "x_train, y_train = sklearn.utils.shuffle(x_train, y_train)"
      ],
      "metadata": {
        "id": "jeYAmDwBkBDP"
      },
      "execution_count": 12,
      "outputs": []
    },
    {
      "cell_type": "code",
      "source": [
        "x_val, x_test, y_val, y_test = train_test_split(x_test, y_test, test_size=0.5, shuffle=True)"
      ],
      "metadata": {
        "id": "wYP5XU8Ujrn5"
      },
      "execution_count": 13,
      "outputs": []
    },
    {
      "cell_type": "code",
      "source": [
        "print(f\"x_train.shape: {x_train.shape}, y_train.shape: {y_train.shape}\")\n",
        "print(f\"x_val.shape: {x_val.shape}, y_val.shape: {y_val.shape}\")\n",
        "print(f\"x_test.shape: {x_test.shape}, y_test.shape: {y_test.shape}\")"
      ],
      "metadata": {
        "colab": {
          "base_uri": "https://localhost:8080/"
        },
        "id": "WmFtHL35lUu1",
        "outputId": "fcb5b2b6-a92b-4de9-a768-c1400ad9a674"
      },
      "execution_count": 14,
      "outputs": [
        {
          "output_type": "stream",
          "name": "stdout",
          "text": [
            "x_train.shape: (2870, 150, 150, 3), y_train.shape: (2870, 4)\n",
            "x_val.shape: (197, 150, 150, 3), y_val.shape: (197, 4)\n",
            "x_test.shape: (197, 150, 150, 3), y_test.shape: (197, 4)\n"
          ]
        }
      ]
    },
    {
      "cell_type": "code",
      "source": [
        "x_train = x_train/255.0\n",
        "x_val = x_val/255.0\n",
        "x_test = x_test/255.0"
      ],
      "metadata": {
        "id": "HeOrWnzdld7R"
      },
      "execution_count": 15,
      "outputs": []
    },
    {
      "cell_type": "code",
      "source": [
        "callback = keras.callbacks.EarlyStopping(monitor=\"val_accuracy\",\n",
        "    min_delta=0.001,\n",
        "    patience=10,\n",
        "    restore_best_weights=True)\n",
        "\n",
        "import csv\n",
        "\n",
        "class Logger(keras.callbacks.Callback):\n",
        "  def __init__(self,f='/content/drive/MyDrive/training.csv'):\n",
        "    self.f = f\n",
        "    with open(f, 'w', newline='') as file:\n",
        "      self.writer = csv.writer(file)\n",
        "  def on_epoch_end(self,epoch,logs=None):\n",
        "    print(logs)"
      ],
      "metadata": {
        "id": "3fwvJd6_nsXt"
      },
      "execution_count": 16,
      "outputs": []
    },
    {
      "cell_type": "code",
      "source": [
        "input_layer = VGG16(include_top=False, weights='imagenet', input_shape=[150, 150, 3])\n",
        "flatten = keras.layers.Flatten()(input_layer.output)\n",
        "dense1 = keras.layers.Dense(4096, \"relu\")(flatten)\n",
        "dense2 = keras.layers.Dense(4096, \"relu\")(dense1)\n",
        "output_layer = keras.layers.Dense(4, \"softmax\")(dense2)\n",
        "vgg16 = keras.models.Model(input_layer.input, output_layer)\n",
        "vgg16.compile(optimizer=keras.optimizers.Adam(0.0001), loss=\"categorical_crossentropy\", metrics=[\"accuracy\"])"
      ],
      "metadata": {
        "id": "dDRcnCrAftGB",
        "colab": {
          "base_uri": "https://localhost:8080/"
        },
        "outputId": "86aa4d99-9971-4e2a-e3df-f8edea4944d5"
      },
      "execution_count": 17,
      "outputs": [
        {
          "output_type": "stream",
          "name": "stdout",
          "text": [
            "Downloading data from https://storage.googleapis.com/tensorflow/keras-applications/vgg16/vgg16_weights_tf_dim_ordering_tf_kernels_notop.h5\n",
            "58889256/58889256 [==============================] - 2s 0us/step\n"
          ]
        }
      ]
    },
    {
      "cell_type": "code",
      "source": [
        "history_vgg16 = vgg16.fit(x_train, y_train, batch_size=32, epochs=3, validation_data=(x_val, y_val), callbacks=[callback, Logger()])"
      ],
      "metadata": {
        "colab": {
          "base_uri": "https://localhost:8080/"
        },
        "id": "OwLb8XONzLlT",
        "outputId": "b387992b-4c12-48e3-d8c6-5cb14059f0b5"
      },
      "execution_count": 18,
      "outputs": [
        {
          "output_type": "stream",
          "name": "stdout",
          "text": [
            "Epoch 1/3\n",
            " 6/90 [=>............................] - ETA: 16s - loss: 1.7790 - accuracy: 0.2760"
          ]
        },
        {
          "output_type": "stream",
          "name": "stderr",
          "text": [
            "WARNING:tensorflow:Callback method `on_train_batch_end` is slow compared to the batch time (batch time: 0.0627s vs `on_train_batch_end` time: 0.1153s). Check your callbacks.\n"
          ]
        },
        {
          "output_type": "stream",
          "name": "stdout",
          "text": [
            "90/90 [==============================] - ETA: 0s - loss: 1.1744 - accuracy: 0.4672{'loss': 1.1743701696395874, 'accuracy': 0.4672473967075348, 'val_loss': 2.0761969089508057, 'val_accuracy': 0.29441624879837036}\n",
            "90/90 [==============================] - 45s 314ms/step - loss: 1.1744 - accuracy: 0.4672 - val_loss: 2.0762 - val_accuracy: 0.2944\n",
            "Epoch 2/3\n",
            "90/90 [==============================] - ETA: 0s - loss: 0.7801 - accuracy: 0.6843{'loss': 0.7800818681716919, 'accuracy': 0.6843205690383911, 'val_loss': 2.114727735519409, 'val_accuracy': 0.3553299605846405}\n",
            "90/90 [==============================] - 19s 214ms/step - loss: 0.7801 - accuracy: 0.6843 - val_loss: 2.1147 - val_accuracy: 0.3553\n",
            "Epoch 3/3\n",
            "90/90 [==============================] - ETA: 0s - loss: 0.5290 - accuracy: 0.7927{'loss': 0.5290051102638245, 'accuracy': 0.792682945728302, 'val_loss': 2.7181289196014404, 'val_accuracy': 0.4517766535282135}\n",
            "90/90 [==============================] - 19s 216ms/step - loss: 0.5290 - accuracy: 0.7927 - val_loss: 2.7181 - val_accuracy: 0.4518\n"
          ]
        }
      ]
    },
    {
      "cell_type": "code",
      "source": [
        "vgg16.evaluate(x_test, y_test)"
      ],
      "metadata": {
        "colab": {
          "base_uri": "https://localhost:8080/"
        },
        "id": "utIW5_GozPWK",
        "outputId": "ac12ee99-5553-49a2-a705-a55cdd9bc6fa"
      },
      "execution_count": 19,
      "outputs": [
        {
          "output_type": "stream",
          "name": "stdout",
          "text": [
            "7/7 [==============================] - 0s 57ms/step - loss: 2.7148 - accuracy: 0.4264\n"
          ]
        },
        {
          "output_type": "execute_result",
          "data": {
            "text/plain": [
              "[2.714803457260132, 0.4263959527015686]"
            ]
          },
          "metadata": {},
          "execution_count": 19
        }
      ]
    },
    {
      "cell_type": "code",
      "source": [
        "input_layer = ResNet50(include_top=False, weights='imagenet', input_shape=[150, 150, 3])\n",
        "flatten = keras.layers.Flatten()(input_layer.output)\n",
        "dense1 = keras.layers.Dense(4096, \"relu\")(flatten)\n",
        "dense2 = keras.layers.Dense(4096, \"relu\")(dense1)\n",
        "output_layer = keras.layers.Dense(4, \"softmax\")(dense2)\n",
        "resnet = keras.models.Model(input_layer.input, output_layer)\n",
        "resnet.compile(optimizer=keras.optimizers.Adam(0.0001), loss=\"categorical_crossentropy\", metrics=[\"accuracy\"])"
      ],
      "metadata": {
        "colab": {
          "base_uri": "https://localhost:8080/"
        },
        "id": "1Yq2dnELhM5B",
        "outputId": "7ea2ca84-933b-4cfe-a6ba-f2ce0b9f1767"
      },
      "execution_count": 20,
      "outputs": [
        {
          "output_type": "stream",
          "name": "stdout",
          "text": [
            "Downloading data from https://storage.googleapis.com/tensorflow/keras-applications/resnet/resnet50_weights_tf_dim_ordering_tf_kernels_notop.h5\n",
            "94765736/94765736 [==============================] - 3s 0us/step\n"
          ]
        }
      ]
    },
    {
      "cell_type": "code",
      "source": [
        "history_resnet = resnet.fit(x_train, y_train, batch_size=32, epochs=3, validation_data=(x_val, y_val), callbacks=[callback, Logger()])"
      ],
      "metadata": {
        "colab": {
          "base_uri": "https://localhost:8080/"
        },
        "id": "b5lxiFoWzGME",
        "outputId": "37d06774-f126-4f9c-83a0-9146475dc87f"
      },
      "execution_count": 21,
      "outputs": [
        {
          "output_type": "stream",
          "name": "stdout",
          "text": [
            "Epoch 1/3\n",
            "90/90 [==============================] - ETA: 0s - loss: 1.1110 - accuracy: 0.8077{'loss': 1.1110366582870483, 'accuracy': 0.8076655268669128, 'val_loss': 2.219238519668579, 'val_accuracy': 0.3096446692943573}\n",
            "90/90 [==============================] - 59s 302ms/step - loss: 1.1110 - accuracy: 0.8077 - val_loss: 2.2192 - val_accuracy: 0.3096\n",
            "Epoch 2/3\n",
            "90/90 [==============================] - ETA: 0s - loss: 0.0662 - accuracy: 0.9767{'loss': 0.06621422618627548, 'accuracy': 0.9766550660133362, 'val_loss': 1.9844881296157837, 'val_accuracy': 0.3096446692943573}\n",
            "90/90 [==============================] - 20s 226ms/step - loss: 0.0662 - accuracy: 0.9767 - val_loss: 1.9845 - val_accuracy: 0.3096\n",
            "Epoch 3/3\n",
            "90/90 [==============================] - ETA: 0s - loss: 0.0211 - accuracy: 0.9937{'loss': 0.021148070693016052, 'accuracy': 0.9937282204627991, 'val_loss': 2.502708911895752, 'val_accuracy': 0.3096446692943573}\n",
            "90/90 [==============================] - 20s 226ms/step - loss: 0.0211 - accuracy: 0.9937 - val_loss: 2.5027 - val_accuracy: 0.3096\n"
          ]
        }
      ]
    },
    {
      "cell_type": "code",
      "source": [
        "resnet.evaluate(x_test, y_test)"
      ],
      "metadata": {
        "colab": {
          "base_uri": "https://localhost:8080/"
        },
        "id": "MzDS8PkAzGOg",
        "outputId": "1085f3a0-8d77-4e3f-9f82-8d0a040fd765"
      },
      "execution_count": 22,
      "outputs": [
        {
          "output_type": "stream",
          "name": "stdout",
          "text": [
            "7/7 [==============================] - 0s 48ms/step - loss: 2.8843 - accuracy: 0.2335\n"
          ]
        },
        {
          "output_type": "execute_result",
          "data": {
            "text/plain": [
              "[2.884310483932495, 0.23350253701210022]"
            ]
          },
          "metadata": {},
          "execution_count": 22
        }
      ]
    },
    {
      "cell_type": "code",
      "source": [
        "input_layer = InceptionV3(include_top=False, weights='imagenet', input_shape=[150, 150, 3])\n",
        "flatten = keras.layers.Flatten()(input_layer.output)\n",
        "dense1 = keras.layers.Dense(4096, \"relu\")(flatten)\n",
        "dense2 = keras.layers.Dense(4096, \"relu\")(dense1)\n",
        "output_layer = keras.layers.Dense(4, \"softmax\")(dense2)\n",
        "inception = keras.models.Model(input_layer.input, output_layer)\n",
        "inception.compile(optimizer=keras.optimizers.Adam(0.0001), loss=\"categorical_crossentropy\", metrics=[\"accuracy\"])"
      ],
      "metadata": {
        "colab": {
          "base_uri": "https://localhost:8080/"
        },
        "id": "am2UsYncmJjN",
        "outputId": "151d6efc-c98f-4419-a907-b27572789357"
      },
      "execution_count": 23,
      "outputs": [
        {
          "output_type": "stream",
          "name": "stdout",
          "text": [
            "Downloading data from https://storage.googleapis.com/tensorflow/keras-applications/inception_v3/inception_v3_weights_tf_dim_ordering_tf_kernels_notop.h5\n",
            "87910968/87910968 [==============================] - 3s 0us/step\n"
          ]
        }
      ]
    },
    {
      "cell_type": "code",
      "source": [
        "history_inception = inception.fit(x_train, y_train, batch_size=32, epochs=3, validation_data=(x_val, y_val), callbacks=[callback, Logger()])"
      ],
      "metadata": {
        "colab": {
          "base_uri": "https://localhost:8080/"
        },
        "id": "cvGFCvZbyp2P",
        "outputId": "ef5e2015-1d84-4069-94b3-38606d9438c2"
      },
      "execution_count": 24,
      "outputs": [
        {
          "output_type": "stream",
          "name": "stdout",
          "text": [
            "Epoch 1/3\n",
            "90/90 [==============================] - ETA: 0s - loss: 0.6894 - accuracy: 0.7617{'loss': 0.689399003982544, 'accuracy': 0.7616724967956543, 'val_loss': 1.953602910041809, 'val_accuracy': 0.48730963468551636}\n",
            "90/90 [==============================] - 54s 222ms/step - loss: 0.6894 - accuracy: 0.7617 - val_loss: 1.9536 - val_accuracy: 0.4873\n",
            "Epoch 2/3\n",
            "90/90 [==============================] - ETA: 0s - loss: 0.1827 - accuracy: 0.9352{'loss': 0.182696133852005, 'accuracy': 0.9351916313171387, 'val_loss': 1.263168454170227, 'val_accuracy': 0.6548223495483398}\n",
            "90/90 [==============================] - 12s 136ms/step - loss: 0.1827 - accuracy: 0.9352 - val_loss: 1.2632 - val_accuracy: 0.6548\n",
            "Epoch 3/3\n",
            "90/90 [==============================] - ETA: 0s - loss: 0.0616 - accuracy: 0.9794{'loss': 0.061637405306100845, 'accuracy': 0.9794425368309021, 'val_loss': 1.5811705589294434, 'val_accuracy': 0.6700507402420044}\n",
            "90/90 [==============================] - 12s 135ms/step - loss: 0.0616 - accuracy: 0.9794 - val_loss: 1.5812 - val_accuracy: 0.6701\n"
          ]
        }
      ]
    },
    {
      "cell_type": "code",
      "source": [
        "inception.evaluate(x_test, y_test)"
      ],
      "metadata": {
        "colab": {
          "base_uri": "https://localhost:8080/"
        },
        "id": "nxL3Xi8TyqMT",
        "outputId": "68957858-be93-414c-a3d4-b039231405ee"
      },
      "execution_count": 25,
      "outputs": [
        {
          "output_type": "stream",
          "name": "stdout",
          "text": [
            "7/7 [==============================] - 0s 30ms/step - loss: 1.7201 - accuracy: 0.6802\n"
          ]
        },
        {
          "output_type": "execute_result",
          "data": {
            "text/plain": [
              "[1.7201135158538818, 0.6802030205726624]"
            ]
          },
          "metadata": {},
          "execution_count": 25
        }
      ]
    },
    {
      "cell_type": "code",
      "source": [
        "input_layer = Xception(include_top=False, weights='imagenet', input_shape=[150, 150, 3])\n",
        "global_avg = keras.layers.GlobalAveragePooling2D()(input_layer.output)\n",
        "output_layer = keras.layers.Dense(4, \"softmax\")(global_avg)\n",
        "xception = keras.models.Model(input_layer.input, output_layer)\n",
        "xception.compile(optimizer=keras.optimizers.Adam(0.0001), loss=\"categorical_crossentropy\", metrics=[\"accuracy\"])"
      ],
      "metadata": {
        "id": "a_p5BbakmNhX",
        "colab": {
          "base_uri": "https://localhost:8080/"
        },
        "outputId": "a6c0b065-c63e-476d-d732-9d695b24bd66"
      },
      "execution_count": 26,
      "outputs": [
        {
          "output_type": "stream",
          "name": "stdout",
          "text": [
            "Downloading data from https://storage.googleapis.com/tensorflow/keras-applications/xception/xception_weights_tf_dim_ordering_tf_kernels_notop.h5\n",
            "83683744/83683744 [==============================] - 3s 0us/step\n"
          ]
        }
      ]
    },
    {
      "cell_type": "code",
      "source": [
        "history_xception = xception.fit(x_train, y_train, batch_size=32, epochs=3, validation_data=(x_val, y_val), callbacks=[callback, Logger()])"
      ],
      "metadata": {
        "colab": {
          "base_uri": "https://localhost:8080/"
        },
        "id": "E_CHyP21pC8Z",
        "outputId": "ddd15271-c05a-4ffc-873f-e3959e0d547e"
      },
      "execution_count": 27,
      "outputs": [
        {
          "output_type": "stream",
          "name": "stdout",
          "text": [
            "Epoch 1/3\n",
            " 6/90 [=>............................] - ETA: 17s - loss: 1.3261 - accuracy: 0.3958"
          ]
        },
        {
          "output_type": "stream",
          "name": "stderr",
          "text": [
            "WARNING:tensorflow:Callback method `on_train_batch_end` is slow compared to the batch time (batch time: 0.0770s vs `on_train_batch_end` time: 0.1049s). Check your callbacks.\n"
          ]
        },
        {
          "output_type": "stream",
          "name": "stdout",
          "text": [
            "90/90 [==============================] - ETA: 0s - loss: 0.5269 - accuracy: 0.8101{'loss': 0.5268926620483398, 'accuracy': 0.8101045489311218, 'val_loss': 1.385057806968689, 'val_accuracy': 0.5989847779273987}\n",
            "90/90 [==============================] - 49s 271ms/step - loss: 0.5269 - accuracy: 0.8101 - val_loss: 1.3851 - val_accuracy: 0.5990\n",
            "Epoch 2/3\n",
            "90/90 [==============================] - ETA: 0s - loss: 0.0882 - accuracy: 0.9721{'loss': 0.08819972723722458, 'accuracy': 0.9721254110336304, 'val_loss': 1.1047648191452026, 'val_accuracy': 0.7309644818305969}\n",
            "90/90 [==============================] - 19s 213ms/step - loss: 0.0882 - accuracy: 0.9721 - val_loss: 1.1048 - val_accuracy: 0.7310\n",
            "Epoch 3/3\n",
            "90/90 [==============================] - ETA: 0s - loss: 0.0372 - accuracy: 0.9906{'loss': 0.037170395255088806, 'accuracy': 0.990592360496521, 'val_loss': 1.1957093477249146, 'val_accuracy': 0.7055837512016296}\n",
            "90/90 [==============================] - 19s 208ms/step - loss: 0.0372 - accuracy: 0.9906 - val_loss: 1.1957 - val_accuracy: 0.7056\n"
          ]
        }
      ]
    },
    {
      "cell_type": "code",
      "source": [
        "xception.evaluate(x_test, y_test)"
      ],
      "metadata": {
        "colab": {
          "base_uri": "https://localhost:8080/"
        },
        "id": "po5rCZ0l0-JT",
        "outputId": "265c51c6-3614-4fb2-b187-1abe92788cfb"
      },
      "execution_count": 28,
      "outputs": [
        {
          "output_type": "stream",
          "name": "stdout",
          "text": [
            "7/7 [==============================] - 0s 51ms/step - loss: 1.5618 - accuracy: 0.6701\n"
          ]
        },
        {
          "output_type": "execute_result",
          "data": {
            "text/plain": [
              "[1.5617930889129639, 0.6700507402420044]"
            ]
          },
          "metadata": {},
          "execution_count": 28
        }
      ]
    },
    {
      "cell_type": "code",
      "source": [
        "mobilenet = MobileNetV2(include_top=False, weights='imagenet', input_shape=[150, 150, 3])\n",
        "flatten = keras.layers.Flatten()(input_layer.output)\n",
        "dense1 = keras.layers.Dense(4096, \"relu\")(flatten)\n",
        "dense2 = keras.layers.Dense(4096, \"relu\")(dense1)\n",
        "output_layer = keras.layers.Dense(4, \"softmax\")(dense2)\n",
        "mobilenet = keras.models.Model(input_layer.input, output_layer)\n",
        "mobilenet.compile(optimizer=keras.optimizers.Adam(0.0001), loss=\"categorical_crossentropy\", metrics=[\"accuracy\"])"
      ],
      "metadata": {
        "colab": {
          "base_uri": "https://localhost:8080/"
        },
        "id": "xHZRkJc6mRac",
        "outputId": "77f0c5f1-f3eb-47b9-ad05-f83ea32802f8"
      },
      "execution_count": 29,
      "outputs": [
        {
          "output_type": "stream",
          "name": "stderr",
          "text": [
            "WARNING:tensorflow:`input_shape` is undefined or non-square, or `rows` is not in [96, 128, 160, 192, 224]. Weights for input shape (224, 224) will be loaded as the default.\n"
          ]
        },
        {
          "output_type": "stream",
          "name": "stdout",
          "text": [
            "Downloading data from https://storage.googleapis.com/tensorflow/keras-applications/mobilenet_v2/mobilenet_v2_weights_tf_dim_ordering_tf_kernels_1.0_224_no_top.h5\n",
            "9406464/9406464 [==============================] - 1s 0us/step\n"
          ]
        }
      ]
    },
    {
      "cell_type": "code",
      "source": [
        "history_mobilenet = mobilenet.fit(x_train, y_train, batch_size=32, epochs=3, validation_data=(x_val, y_val), callbacks=[callback, Logger()])"
      ],
      "metadata": {
        "colab": {
          "base_uri": "https://localhost:8080/"
        },
        "id": "SqkJvMiltjoN",
        "outputId": "2c9e04db-d169-40a8-bc59-4f04cd12a71c"
      },
      "execution_count": 30,
      "outputs": [
        {
          "output_type": "stream",
          "name": "stdout",
          "text": [
            "Epoch 1/3\n",
            "90/90 [==============================] - ETA: 0s - loss: 0.1515 - accuracy: 0.9679{'loss': 0.1514708250761032, 'accuracy': 0.9679442644119263, 'val_loss': 5.650201797485352, 'val_accuracy': 0.6954314708709717}\n",
            "90/90 [==============================] - 46s 295ms/step - loss: 0.1515 - accuracy: 0.9679 - val_loss: 5.6502 - val_accuracy: 0.6954\n",
            "Epoch 2/3\n",
            "90/90 [==============================] - ETA: 0s - loss: 0.0889 - accuracy: 0.9829{'loss': 0.08885709196329117, 'accuracy': 0.9829268455505371, 'val_loss': 9.29749584197998, 'val_accuracy': 0.6091370582580566}\n",
            "90/90 [==============================] - 24s 265ms/step - loss: 0.0889 - accuracy: 0.9829 - val_loss: 9.2975 - val_accuracy: 0.6091\n",
            "Epoch 3/3\n",
            "90/90 [==============================] - ETA: 0s - loss: 0.0431 - accuracy: 0.9871{'loss': 0.043073803186416626, 'accuracy': 0.9871079921722412, 'val_loss': 3.7038304805755615, 'val_accuracy': 0.6802030205726624}\n",
            "90/90 [==============================] - 23s 261ms/step - loss: 0.0431 - accuracy: 0.9871 - val_loss: 3.7038 - val_accuracy: 0.6802\n"
          ]
        }
      ]
    },
    {
      "cell_type": "code",
      "source": [
        "mobilenet.evaluate(x_test, y_test)"
      ],
      "metadata": {
        "colab": {
          "base_uri": "https://localhost:8080/"
        },
        "id": "9SztlfuFynaZ",
        "outputId": "becbbc30-813b-4fa2-ae4b-123dd277abb9"
      },
      "execution_count": 31,
      "outputs": [
        {
          "output_type": "stream",
          "name": "stdout",
          "text": [
            "7/7 [==============================] - 0s 54ms/step - loss: 4.0875 - accuracy: 0.6548\n"
          ]
        },
        {
          "output_type": "execute_result",
          "data": {
            "text/plain": [
              "[4.087516784667969, 0.6548223495483398]"
            ]
          },
          "metadata": {},
          "execution_count": 31
        }
      ]
    },
    {
      "cell_type": "code",
      "source": [],
      "metadata": {
        "id": "KILJ7xP5zZGw"
      },
      "execution_count": null,
      "outputs": []
    }
  ]
}